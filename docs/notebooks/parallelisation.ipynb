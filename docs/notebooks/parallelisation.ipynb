{
 "cells": [
  {
   "cell_type": "markdown",
   "metadata": {},
   "source": [
    "# Parallelisation\n",
    "\n",
    "Large ExoMol line lists (e.g. H<sub>2</sub>O, CH<sub>4</sub>) consist of separate transition-files"
   ]
  }
 ],
 "metadata": {
  "language_info": {
   "name": "python"
  }
 },
 "nbformat": 4,
 "nbformat_minor": 2
}
